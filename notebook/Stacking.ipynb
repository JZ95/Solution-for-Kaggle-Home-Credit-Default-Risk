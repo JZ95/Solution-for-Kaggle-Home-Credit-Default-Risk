{
 "cells": [
  {
   "cell_type": "code",
   "execution_count": 22,
   "metadata": {
    "collapsed": true
   },
   "outputs": [],
   "source": [
    "import pandas as pd\n",
    "import numpy as np\n",
    "import pickle\n",
    "from sklearn.metrics import roc_auc_score, accuracy_score\n",
    "from sklearn.linear_model import LogisticRegression, LinearRegression\n",
    "from sklearn.tree import DecisionTreeClassifier\n",
    "from sklearn.model_selection import train_test_split, StratifiedKFold\n",
    "from scipy.stats import percentileofscore\n",
    "import sys\n",
    "from tqdm import tqdm_notebook\n",
    "sys.path.append('../')\n",
    "\n",
    "%matplotlib inline"
   ]
  },
  {
   "cell_type": "code",
   "execution_count": 30,
   "metadata": {
    "collapsed": true
   },
   "outputs": [],
   "source": [
    "baseModelNames = [\n",
    "#     'LB0.802',\n",
    "#     'allParamsTuned',\n",
    "    'withAggFeatsIn',\n",
    "#     'PrunedFeatureModel',\n",
    "#     '0824_new_agg_Final',\n",
    "#     'WithPosScaleWeight_eq_5',\n",
    "    'CV10-0821',\n",
    "    'CV10-0827',\n",
    "    '1150FEATS_LGB',\n",
    "#     '1050FEATS_LGB',\n",
    "    '1400FEATS_LGB',\n",
    "#     'aws_stacking_base_lgb_1',\n",
    "#     'aws_stacking_base_lgb_4',\n",
    "#     'aws_stacking_base_lgb_7',\n",
    "#     'aws_stacking_base_lgb_9',\n",
    "#     'aws_stacking_base_lgb_10',\n",
    "#     'XGB-5-CV',\n",
    "    '6CV_Final_FEATURE_SET',\n",
    "    '8CV_NO_POS_CC',\n",
    "#     '8CV_NO_CC_POS_INSTAL',\n",
    "    '8CV_NO_FINAL',\n",
    "]"
   ]
  },
  {
   "cell_type": "code",
   "execution_count": 31,
   "metadata": {},
   "outputs": [
    {
     "data": {
      "application/vnd.jupyter.widget-view+json": {
       "model_id": "26eaecb72a604ad4a0c6a89ebd0c8977",
       "version_major": 2,
       "version_minor": 0
      },
      "text/plain": [
       "A Jupyter Widget"
      ]
     },
     "metadata": {},
     "output_type": "display_data"
    },
    {
     "name": "stderr",
     "output_type": "stream",
     "text": [
      "/Users/j.zhou/anaconda3/lib/python3.6/site-packages/sklearn/base.py:311: UserWarning: Trying to unpickle estimator LabelEncoder from version 0.19.2 when using version 0.19.1. This might lead to breaking code or invalid results. Use at your own risk.\n",
      "  UserWarning)\n"
     ]
    }
   ],
   "source": [
    "def get_data(modelNames):\n",
    "    oof = {}\n",
    "    preds = {}\n",
    "    for name in tqdm_notebook(modelNames):\n",
    "        pathName = '../workdir/' + name\n",
    "        with open(pathName + '/kfold_model.pkl', 'rb') as f:\n",
    "            Clf = pickle.load(f)\n",
    "        oof_arr = Clf.oof_preds_\n",
    "        pred_arr = pd.read_csv(pathName + '/preds.csv', usecols=['TARGET']).values.ravel()\n",
    "\n",
    "        oof[name + '_oof'] = oof_arr\n",
    "        preds[name + '_preds'] = pred_arr\n",
    "\n",
    "    return oof, preds\n",
    "\n",
    "oof, preds = get_data(baseModelNames)\n",
    "df = pd.DataFrame(oof)\n",
    "predDf = pd.DataFrame(preds)"
   ]
  },
  {
   "cell_type": "code",
   "execution_count": 32,
   "metadata": {},
   "outputs": [],
   "source": [
    "df = df.join(pd.read_csv('../input/train_df.csv', usecols=['SK_ID_CURR', 'TARGET']))\n",
    "oof_cols = [col for col in df.columns if '_oof' in col]\n",
    "# df[oof_cols] = df[oof_cols].apply(lambda x: x.rank() / len(x))\n",
    "df['std'] = df[oof_cols].std(axis=1)"
   ]
  },
  {
   "cell_type": "code",
   "execution_count": 33,
   "metadata": {},
   "outputs": [],
   "source": [
    "predDf = predDf.join(pd.read_csv('../input/sample_submission.csv', usecols=['SK_ID_CURR']))\n",
    "pred_cols = [col for col in predDf.columns if '_preds' in col]\n",
    "predDf['std'] = predDf[pred_cols].std(axis=1)"
   ]
  },
  {
   "cell_type": "markdown",
   "metadata": {},
   "source": [
    "<font size=5> OOF AUC"
   ]
  },
  {
   "cell_type": "code",
   "execution_count": 34,
   "metadata": {},
   "outputs": [
    {
     "name": "stdout",
     "output_type": "stream",
     "text": [
      "withAggFeatsIn_oof                0.798296\n",
      "CV10-0821_oof                     0.799078\n",
      "CV10-0827_oof                     0.799363\n",
      "1150FEATS_LGB_oof                 0.798455\n",
      "1400FEATS_LGB_oof                 0.798209\n",
      "6CV_Final_FEATURE_SET_oof         0.798551\n",
      "8CV_NO_POS_CC_oof                 0.798237\n",
      "8CV_NO_FINAL_oof                  0.799079\n"
     ]
    }
   ],
   "source": [
    "for col in oof_cols:\n",
    "    auc = roc_auc_score(df['TARGET'], df[col])\n",
    "    print('%-30s    %.6f' % (col, auc))"
   ]
  },
  {
   "cell_type": "markdown",
   "metadata": {},
   "source": [
    "<font size=5> Correlation"
   ]
  },
  {
   "cell_type": "code",
   "execution_count": 35,
   "metadata": {},
   "outputs": [
    {
     "data": {
      "text/html": [
       "<div>\n",
       "<style scoped>\n",
       "    .dataframe tbody tr th:only-of-type {\n",
       "        vertical-align: middle;\n",
       "    }\n",
       "\n",
       "    .dataframe tbody tr th {\n",
       "        vertical-align: top;\n",
       "    }\n",
       "\n",
       "    .dataframe thead th {\n",
       "        text-align: right;\n",
       "    }\n",
       "</style>\n",
       "<table border=\"1\" class=\"dataframe\">\n",
       "  <thead>\n",
       "    <tr style=\"text-align: right;\">\n",
       "      <th></th>\n",
       "      <th>withAggFeatsIn_oof</th>\n",
       "      <th>CV10-0821_oof</th>\n",
       "      <th>CV10-0827_oof</th>\n",
       "      <th>1150FEATS_LGB_oof</th>\n",
       "      <th>1400FEATS_LGB_oof</th>\n",
       "      <th>6CV_Final_FEATURE_SET_oof</th>\n",
       "      <th>8CV_NO_POS_CC_oof</th>\n",
       "      <th>8CV_NO_FINAL_oof</th>\n",
       "    </tr>\n",
       "  </thead>\n",
       "  <tbody>\n",
       "    <tr>\n",
       "      <th>count</th>\n",
       "      <td>307507.000000</td>\n",
       "      <td>307507.000000</td>\n",
       "      <td>307507.000000</td>\n",
       "      <td>307507.000000</td>\n",
       "      <td>307507.000000</td>\n",
       "      <td>307507.000000</td>\n",
       "      <td>307507.000000</td>\n",
       "      <td>307507.000000</td>\n",
       "    </tr>\n",
       "    <tr>\n",
       "      <th>mean</th>\n",
       "      <td>0.078945</td>\n",
       "      <td>0.079124</td>\n",
       "      <td>0.078928</td>\n",
       "      <td>0.078845</td>\n",
       "      <td>0.078797</td>\n",
       "      <td>0.078723</td>\n",
       "      <td>0.078611</td>\n",
       "      <td>0.078526</td>\n",
       "    </tr>\n",
       "    <tr>\n",
       "      <th>std</th>\n",
       "      <td>0.095678</td>\n",
       "      <td>0.095313</td>\n",
       "      <td>0.095482</td>\n",
       "      <td>0.095061</td>\n",
       "      <td>0.095290</td>\n",
       "      <td>0.095243</td>\n",
       "      <td>0.095268</td>\n",
       "      <td>0.095802</td>\n",
       "    </tr>\n",
       "    <tr>\n",
       "      <th>min</th>\n",
       "      <td>0.001279</td>\n",
       "      <td>0.001485</td>\n",
       "      <td>0.001443</td>\n",
       "      <td>0.001717</td>\n",
       "      <td>0.001523</td>\n",
       "      <td>0.001451</td>\n",
       "      <td>0.001516</td>\n",
       "      <td>0.001232</td>\n",
       "    </tr>\n",
       "    <tr>\n",
       "      <th>25%</th>\n",
       "      <td>0.021235</td>\n",
       "      <td>0.021510</td>\n",
       "      <td>0.021448</td>\n",
       "      <td>0.021517</td>\n",
       "      <td>0.021471</td>\n",
       "      <td>0.021356</td>\n",
       "      <td>0.021121</td>\n",
       "      <td>0.020928</td>\n",
       "    </tr>\n",
       "    <tr>\n",
       "      <th>50%</th>\n",
       "      <td>0.043577</td>\n",
       "      <td>0.043933</td>\n",
       "      <td>0.043679</td>\n",
       "      <td>0.043708</td>\n",
       "      <td>0.043566</td>\n",
       "      <td>0.043629</td>\n",
       "      <td>0.043493</td>\n",
       "      <td>0.043140</td>\n",
       "    </tr>\n",
       "    <tr>\n",
       "      <th>75%</th>\n",
       "      <td>0.095571</td>\n",
       "      <td>0.095955</td>\n",
       "      <td>0.095516</td>\n",
       "      <td>0.095422</td>\n",
       "      <td>0.095233</td>\n",
       "      <td>0.095335</td>\n",
       "      <td>0.095323</td>\n",
       "      <td>0.094901</td>\n",
       "    </tr>\n",
       "    <tr>\n",
       "      <th>max</th>\n",
       "      <td>0.879603</td>\n",
       "      <td>0.900749</td>\n",
       "      <td>0.900269</td>\n",
       "      <td>0.883544</td>\n",
       "      <td>0.889802</td>\n",
       "      <td>0.896685</td>\n",
       "      <td>0.901637</td>\n",
       "      <td>0.892403</td>\n",
       "    </tr>\n",
       "  </tbody>\n",
       "</table>\n",
       "</div>"
      ],
      "text/plain": [
       "       withAggFeatsIn_oof  CV10-0821_oof  CV10-0827_oof  1150FEATS_LGB_oof  \\\n",
       "count       307507.000000  307507.000000  307507.000000      307507.000000   \n",
       "mean             0.078945       0.079124       0.078928           0.078845   \n",
       "std              0.095678       0.095313       0.095482           0.095061   \n",
       "min              0.001279       0.001485       0.001443           0.001717   \n",
       "25%              0.021235       0.021510       0.021448           0.021517   \n",
       "50%              0.043577       0.043933       0.043679           0.043708   \n",
       "75%              0.095571       0.095955       0.095516           0.095422   \n",
       "max              0.879603       0.900749       0.900269           0.883544   \n",
       "\n",
       "       1400FEATS_LGB_oof  6CV_Final_FEATURE_SET_oof  8CV_NO_POS_CC_oof  \\\n",
       "count      307507.000000              307507.000000      307507.000000   \n",
       "mean            0.078797                   0.078723           0.078611   \n",
       "std             0.095290                   0.095243           0.095268   \n",
       "min             0.001523                   0.001451           0.001516   \n",
       "25%             0.021471                   0.021356           0.021121   \n",
       "50%             0.043566                   0.043629           0.043493   \n",
       "75%             0.095233                   0.095335           0.095323   \n",
       "max             0.889802                   0.896685           0.901637   \n",
       "\n",
       "       8CV_NO_FINAL_oof  \n",
       "count     307507.000000  \n",
       "mean           0.078526  \n",
       "std            0.095802  \n",
       "min            0.001232  \n",
       "25%            0.020928  \n",
       "50%            0.043140  \n",
       "75%            0.094901  \n",
       "max            0.892403  "
      ]
     },
     "execution_count": 35,
     "metadata": {},
     "output_type": "execute_result"
    }
   ],
   "source": [
    "df[oof_cols].describe()"
   ]
  },
  {
   "cell_type": "code",
   "execution_count": 60,
   "metadata": {},
   "outputs": [],
   "source": [
    "with open('../config/sample_weights_lst.pkl', 'wb') as f:\n",
    "    pickle.dump(df['weights'].values, f)"
   ]
  },
  {
   "cell_type": "code",
   "execution_count": null,
   "metadata": {
    "collapsed": true
   },
   "outputs": [],
   "source": [
    "train_df_debug = pd.read_csv('../input/train_df.csv', nrows=20000)"
   ]
  },
  {
   "cell_type": "code",
   "execution_count": null,
   "metadata": {
    "collapsed": true
   },
   "outputs": [],
   "source": [
    "train_df_debug.to_csv('../input/train_df_debug.csv', index=False)"
   ]
  },
  {
   "cell_type": "code",
   "execution_count": 50,
   "metadata": {},
   "outputs": [
    {
     "data": {
      "text/plain": [
       "0.010902984270474817"
      ]
     },
     "execution_count": 50,
     "metadata": {},
     "output_type": "execute_result"
    }
   ],
   "source": [
    "df['CV10-0827_oof'].quantile(.08)"
   ]
  },
  {
   "cell_type": "code",
   "execution_count": 51,
   "metadata": {},
   "outputs": [
    {
     "data": {
      "text/plain": [
       "30097"
      ]
     },
     "execution_count": 51,
     "metadata": {},
     "output_type": "execute_result"
    }
   ],
   "source": [
    "len(df[df['CV10-0827_oof'] < 0.012])"
   ]
  },
  {
   "cell_type": "code",
   "execution_count": 52,
   "metadata": {},
   "outputs": [],
   "source": [
    "low_risk = df[df['CV10-0827_oof'] < 0.012]\n",
    "low_risk_bad_man = low_risk[low_risk['TARGET'] == 1]['SK_ID_CURR']"
   ]
  },
  {
   "cell_type": "code",
   "execution_count": 53,
   "metadata": {},
   "outputs": [],
   "source": [
    "high_risk = df[df['CV10-0827_oof'] > 0.25]\n",
    "high_risk_good_man = high_risk[high_risk['TARGET'] == 0]['SK_ID_CURR']"
   ]
  },
  {
   "cell_type": "code",
   "execution_count": 55,
   "metadata": {
    "collapsed": true
   },
   "outputs": [],
   "source": [
    "df.set_index('SK_ID_CURR', inplace=True)"
   ]
  },
  {
   "cell_type": "code",
   "execution_count": 57,
   "metadata": {},
   "outputs": [],
   "source": [
    "df['weights'] = 1\n",
    "df.loc[low_risk_bad_man, 'weights'] = 5\n",
    "df.loc[high_risk_good_man, 'weights'] = 5"
   ]
  },
  {
   "cell_type": "code",
   "execution_count": null,
   "metadata": {
    "collapsed": true
   },
   "outputs": [],
   "source": [
    "df[]"
   ]
  },
  {
   "cell_type": "code",
   "execution_count": null,
   "metadata": {},
   "outputs": [],
   "source": [
    "df['std'].describe()"
   ]
  },
  {
   "cell_type": "code",
   "execution_count": 36,
   "metadata": {
    "scrolled": false
   },
   "outputs": [
    {
     "data": {
      "text/html": [
       "<div>\n",
       "<style scoped>\n",
       "    .dataframe tbody tr th:only-of-type {\n",
       "        vertical-align: middle;\n",
       "    }\n",
       "\n",
       "    .dataframe tbody tr th {\n",
       "        vertical-align: top;\n",
       "    }\n",
       "\n",
       "    .dataframe thead th {\n",
       "        text-align: right;\n",
       "    }\n",
       "</style>\n",
       "<table border=\"1\" class=\"dataframe\">\n",
       "  <thead>\n",
       "    <tr style=\"text-align: right;\">\n",
       "      <th></th>\n",
       "      <th>withAggFeatsIn_oof</th>\n",
       "      <th>CV10-0821_oof</th>\n",
       "      <th>CV10-0827_oof</th>\n",
       "      <th>1150FEATS_LGB_oof</th>\n",
       "      <th>1400FEATS_LGB_oof</th>\n",
       "      <th>6CV_Final_FEATURE_SET_oof</th>\n",
       "      <th>8CV_NO_POS_CC_oof</th>\n",
       "      <th>8CV_NO_FINAL_oof</th>\n",
       "    </tr>\n",
       "  </thead>\n",
       "  <tbody>\n",
       "    <tr>\n",
       "      <th>withAggFeatsIn_oof</th>\n",
       "      <td>1.000000</td>\n",
       "      <td>0.979816</td>\n",
       "      <td>0.977416</td>\n",
       "      <td>0.973129</td>\n",
       "      <td>0.974331</td>\n",
       "      <td>0.973121</td>\n",
       "      <td>0.970711</td>\n",
       "      <td>0.975270</td>\n",
       "    </tr>\n",
       "    <tr>\n",
       "      <th>CV10-0821_oof</th>\n",
       "      <td>0.979816</td>\n",
       "      <td>1.000000</td>\n",
       "      <td>0.981068</td>\n",
       "      <td>0.976567</td>\n",
       "      <td>0.978107</td>\n",
       "      <td>0.976504</td>\n",
       "      <td>0.974070</td>\n",
       "      <td>0.979624</td>\n",
       "    </tr>\n",
       "    <tr>\n",
       "      <th>CV10-0827_oof</th>\n",
       "      <td>0.977416</td>\n",
       "      <td>0.981068</td>\n",
       "      <td>1.000000</td>\n",
       "      <td>0.989251</td>\n",
       "      <td>0.990371</td>\n",
       "      <td>0.988094</td>\n",
       "      <td>0.985924</td>\n",
       "      <td>0.988883</td>\n",
       "    </tr>\n",
       "    <tr>\n",
       "      <th>1150FEATS_LGB_oof</th>\n",
       "      <td>0.973129</td>\n",
       "      <td>0.976567</td>\n",
       "      <td>0.989251</td>\n",
       "      <td>1.000000</td>\n",
       "      <td>0.992643</td>\n",
       "      <td>0.985742</td>\n",
       "      <td>0.982469</td>\n",
       "      <td>0.985055</td>\n",
       "    </tr>\n",
       "    <tr>\n",
       "      <th>1400FEATS_LGB_oof</th>\n",
       "      <td>0.974331</td>\n",
       "      <td>0.978107</td>\n",
       "      <td>0.990371</td>\n",
       "      <td>0.992643</td>\n",
       "      <td>1.000000</td>\n",
       "      <td>0.986931</td>\n",
       "      <td>0.983792</td>\n",
       "      <td>0.986813</td>\n",
       "    </tr>\n",
       "    <tr>\n",
       "      <th>6CV_Final_FEATURE_SET_oof</th>\n",
       "      <td>0.973121</td>\n",
       "      <td>0.976504</td>\n",
       "      <td>0.988094</td>\n",
       "      <td>0.985742</td>\n",
       "      <td>0.986931</td>\n",
       "      <td>1.000000</td>\n",
       "      <td>0.982601</td>\n",
       "      <td>0.985281</td>\n",
       "    </tr>\n",
       "    <tr>\n",
       "      <th>8CV_NO_POS_CC_oof</th>\n",
       "      <td>0.970711</td>\n",
       "      <td>0.974070</td>\n",
       "      <td>0.985924</td>\n",
       "      <td>0.982469</td>\n",
       "      <td>0.983792</td>\n",
       "      <td>0.982601</td>\n",
       "      <td>1.000000</td>\n",
       "      <td>0.986432</td>\n",
       "    </tr>\n",
       "    <tr>\n",
       "      <th>8CV_NO_FINAL_oof</th>\n",
       "      <td>0.975270</td>\n",
       "      <td>0.979624</td>\n",
       "      <td>0.988883</td>\n",
       "      <td>0.985055</td>\n",
       "      <td>0.986813</td>\n",
       "      <td>0.985281</td>\n",
       "      <td>0.986432</td>\n",
       "      <td>1.000000</td>\n",
       "    </tr>\n",
       "  </tbody>\n",
       "</table>\n",
       "</div>"
      ],
      "text/plain": [
       "                           withAggFeatsIn_oof  CV10-0821_oof  CV10-0827_oof  \\\n",
       "withAggFeatsIn_oof                   1.000000       0.979816       0.977416   \n",
       "CV10-0821_oof                        0.979816       1.000000       0.981068   \n",
       "CV10-0827_oof                        0.977416       0.981068       1.000000   \n",
       "1150FEATS_LGB_oof                    0.973129       0.976567       0.989251   \n",
       "1400FEATS_LGB_oof                    0.974331       0.978107       0.990371   \n",
       "6CV_Final_FEATURE_SET_oof            0.973121       0.976504       0.988094   \n",
       "8CV_NO_POS_CC_oof                    0.970711       0.974070       0.985924   \n",
       "8CV_NO_FINAL_oof                     0.975270       0.979624       0.988883   \n",
       "\n",
       "                           1150FEATS_LGB_oof  1400FEATS_LGB_oof  \\\n",
       "withAggFeatsIn_oof                  0.973129           0.974331   \n",
       "CV10-0821_oof                       0.976567           0.978107   \n",
       "CV10-0827_oof                       0.989251           0.990371   \n",
       "1150FEATS_LGB_oof                   1.000000           0.992643   \n",
       "1400FEATS_LGB_oof                   0.992643           1.000000   \n",
       "6CV_Final_FEATURE_SET_oof           0.985742           0.986931   \n",
       "8CV_NO_POS_CC_oof                   0.982469           0.983792   \n",
       "8CV_NO_FINAL_oof                    0.985055           0.986813   \n",
       "\n",
       "                           6CV_Final_FEATURE_SET_oof  8CV_NO_POS_CC_oof  \\\n",
       "withAggFeatsIn_oof                          0.973121           0.970711   \n",
       "CV10-0821_oof                               0.976504           0.974070   \n",
       "CV10-0827_oof                               0.988094           0.985924   \n",
       "1150FEATS_LGB_oof                           0.985742           0.982469   \n",
       "1400FEATS_LGB_oof                           0.986931           0.983792   \n",
       "6CV_Final_FEATURE_SET_oof                   1.000000           0.982601   \n",
       "8CV_NO_POS_CC_oof                           0.982601           1.000000   \n",
       "8CV_NO_FINAL_oof                            0.985281           0.986432   \n",
       "\n",
       "                           8CV_NO_FINAL_oof  \n",
       "withAggFeatsIn_oof                 0.975270  \n",
       "CV10-0821_oof                      0.979624  \n",
       "CV10-0827_oof                      0.988883  \n",
       "1150FEATS_LGB_oof                  0.985055  \n",
       "1400FEATS_LGB_oof                  0.986813  \n",
       "6CV_Final_FEATURE_SET_oof          0.985281  \n",
       "8CV_NO_POS_CC_oof                  0.986432  \n",
       "8CV_NO_FINAL_oof                   1.000000  "
      ]
     },
     "execution_count": 36,
     "metadata": {},
     "output_type": "execute_result"
    }
   ],
   "source": [
    "df[oof_cols].corr()"
   ]
  },
  {
   "cell_type": "markdown",
   "metadata": {},
   "source": [
    "<font size=5> start Stacking"
   ]
  },
  {
   "cell_type": "code",
   "execution_count": null,
   "metadata": {
    "collapsed": true
   },
   "outputs": [],
   "source": [
    "from lightgbm import LGBMClassifier"
   ]
  },
  {
   "cell_type": "code",
   "execution_count": 37,
   "metadata": {
    "scrolled": false
   },
   "outputs": [
    {
     "name": "stdout",
     "output_type": "stream",
     "text": [
      "start train fold 1\n",
      "============================================================\n",
      "start train fold 2\n",
      "============================================================\n",
      "start train fold 3\n",
      "============================================================\n",
      "start train fold 4\n",
      "============================================================\n",
      "start train fold 5\n",
      "============================================================\n",
      "FULL AUC:  0.8004624790453958\n"
     ]
    }
   ],
   "source": [
    "def train(X, y, model, cv=5):\n",
    "    from copy import deepcopy\n",
    "    models = [deepcopy(model) for i in range(cv)]\n",
    "    split = StratifiedKFold(n_splits=cv, shuffle=True, random_state=2018)\n",
    "    oof_preds = np.zeros((len(X),))\n",
    "    for i, (train_idx, dev_idx) in enumerate(split.split(X, y)):\n",
    "        X_train, X_dev = X.iloc[train_idx], X.iloc[dev_idx]\n",
    "        y_train, y_dev = y.iloc[train_idx], y.iloc[dev_idx]\n",
    "        \n",
    "        model = models[i]\n",
    "        print('start train fold %s' % str(i + 1))\n",
    "        model.fit(X_train, y_train,\n",
    "#                   eval_set=[(X_train, y_train), (X_dev, y_dev)],\n",
    "#                   eval_names=['train', 'valid'],\n",
    "#                   eval_metric='auc',\n",
    "#                   verbose=20,\n",
    "#                   early_stopping_rounds=50,\n",
    "                 )\n",
    "        y_hat = model.predict_proba(X_dev)[:, 1]\n",
    "        oof_preds[dev_idx] = y_hat\n",
    "        print('=' * 60)\n",
    "    print(\"FULL AUC: \", roc_auc_score(y, oof_preds))\n",
    "    return models\n",
    "\n",
    "# lgbClf = LGBMClassifier(n_estimators=250, learning_rate=0.01, reg_alpha=1)\n",
    "models = train(df[oof_cols] , df['TARGET'], LogisticRegression())"
   ]
  },
  {
   "cell_type": "code",
   "execution_count": 21,
   "metadata": {},
   "outputs": [
    {
     "name": "stdout",
     "output_type": "stream",
     "text": [
      "[[-3.92414956 -0.16775436  0.93380102 -0.00735691  5.42258363  1.84648586\n",
      "   0.49897467 -0.5465593  -0.12895278 -0.74268395 -0.48852687  0.07765628\n",
      "  -0.11034734 -0.45792602  0.43418118  1.09403378  0.55797115  0.83444658]]\n",
      "[[-3.93679824e+00  1.83209430e-01  6.70605011e-01  1.25637060e-03\n",
      "   5.50935026e+00  1.73033062e+00  4.67749463e-01 -2.48383650e-01\n",
      "  -4.06219900e-01 -8.94192865e-01 -2.51316522e-01 -3.28916755e-02\n",
      "   9.04904325e-02 -4.93579357e-01  4.21613421e-01  7.59769703e-01\n",
      "   2.95064102e-01  1.18049185e+00]]\n",
      "[[-3.85101614 -0.16561281  0.52939657 -0.10080996  5.44260332  1.94080549\n",
      "   0.73082419 -0.50067944 -0.22356099 -0.71676617  0.09602303 -0.20948457\n",
      "  -0.01402301 -0.55037956  0.15356099  0.77570037  0.28661289  1.52985716]]\n",
      "[[-3.86786811 -0.03733224  0.7504814   0.04263365  5.41861816  2.09467883\n",
      "   0.72880684 -1.04453909 -0.11666455 -0.41562627 -0.58555416  0.07926958\n",
      "   0.01411795 -0.82047432  0.39106391  0.9903012   0.45885007  0.99040887]]\n",
      "[[-4.26953319 -0.39994696  0.95850068  0.29074221  5.39376063  1.68649588\n",
      "   0.62146383 -0.19113988 -0.37990022 -0.65467327 -0.31054807  0.04159816\n",
      "  -0.15185408 -0.60814528  0.51150494  0.91993556  0.53348608  1.12582048]]\n"
     ]
    }
   ],
   "source": [
    "for model in models:\n",
    "    print(model.coef_)"
   ]
  },
  {
   "cell_type": "code",
   "execution_count": 38,
   "metadata": {},
   "outputs": [],
   "source": [
    "def pred(X, models):\n",
    "    y_hat = np.zeros((len(X), ))\n",
    "    n = len(models)\n",
    "    for model in models:\n",
    "        y_hat += model.predict_proba(X)[:, 1]\n",
    "    y_hat /= n\n",
    "    return y_hat\n",
    "\n",
    "stackingPreds = pred(predDf[pred_cols], models)"
   ]
  },
  {
   "cell_type": "markdown",
   "metadata": {},
   "source": [
    "<font size=5> Weighted AVG"
   ]
  },
  {
   "cell_type": "code",
   "execution_count": null,
   "metadata": {},
   "outputs": [],
   "source": [
    "def avg_score(weights, df):\n",
    "    ret = 0\n",
    "    for col, w in weights.items():\n",
    "        ret += df[col + '_oof'] * w\n",
    "    return ret\n",
    "weights = {\n",
    "    'LB0.802': 0, \n",
    "    'allParamsTuned': 0,\n",
    "    'withAggFeatsIn': 0, \n",
    "    '0824_new_agg_Final':0, \n",
    "    'CV10-0821': 0.5,\n",
    "    'CV10-0827': 0.4,\n",
    "    '1150FEATS_LGB':0,\n",
    "    'aws_stacking_base_lgb_1': 0.4,\n",
    "    'aws_stacking_base_lgb_7': 0., \n",
    "    'aws_stacking_base_lgb_9': 0.,\n",
    "    'aws_stacking_base_lgb_10': 0.5,\n",
    "}\n",
    "avg_score_ = avg_score(weights, df)\n",
    "roc_auc_score(df['TARGET'], avg_score_)"
   ]
  },
  {
   "cell_type": "code",
   "execution_count": 39,
   "metadata": {},
   "outputs": [],
   "source": [
    "predDf['TARGET'] = stackingPreds"
   ]
  },
  {
   "cell_type": "code",
   "execution_count": 40,
   "metadata": {},
   "outputs": [],
   "source": [
    "predDf[['SK_ID_CURR', 'TARGET']].to_csv('logi_stacking_with_feature_selectedV@.csv', index=False)"
   ]
  },
  {
   "cell_type": "code",
   "execution_count": null,
   "metadata": {
    "collapsed": true
   },
   "outputs": [],
   "source": []
  }
 ],
 "metadata": {
  "kernelspec": {
   "display_name": "Python 3",
   "language": "python",
   "name": "python3"
  },
  "language_info": {
   "codemirror_mode": {
    "name": "ipython",
    "version": 3
   },
   "file_extension": ".py",
   "mimetype": "text/x-python",
   "name": "python",
   "nbconvert_exporter": "python",
   "pygments_lexer": "ipython3",
   "version": "3.6.3"
  }
 },
 "nbformat": 4,
 "nbformat_minor": 2
}
