{
 "cells": [
  {
   "cell_type": "code",
   "execution_count": 1,
   "metadata": {
    "collapsed": true
   },
   "outputs": [],
   "source": [
    "import pandas as pd\n",
    "import numpy as np\n",
    "import pickle\n",
    "from sklearn.metrics import roc_auc_score, accuracy_score\n",
    "from sklearn.linear_model import LogisticRegression, LinearRegression\n",
    "from sklearn.tree import DecisionTreeClassifier\n",
    "from sklearn.model_selection import train_test_split, StratifiedKFold\n",
    "from scipy.stats import percentileofscore\n",
    "import sys\n",
    "from tqdm import tqdm_notebook\n",
    "sys.path.append('../')\n",
    "\n",
    "%matplotlib inline"
   ]
  },
  {
   "cell_type": "code",
   "execution_count": 23,
   "metadata": {
    "collapsed": true
   },
   "outputs": [],
   "source": [
    "from xgboost.sklearn import XGBClassifier"
   ]
  },
  {
   "cell_type": "code",
   "execution_count": 24,
   "metadata": {
    "collapsed": true
   },
   "outputs": [],
   "source": [
    "xgb = XGBClassifier()"
   ]
  },
  {
   "cell_type": "code",
   "execution_count": 42,
   "metadata": {},
   "outputs": [
    {
     "name": "stdout",
     "output_type": "stream",
     "text": [
      "[0]\tvalidation_0-auc:0.791452\tvalidation_1-auc:0.791452\n",
      "[10]\tvalidation_0-auc:0.800144\tvalidation_1-auc:0.800144\n",
      "[20]\tvalidation_0-auc:0.801067\tvalidation_1-auc:0.801067\n",
      "[30]\tvalidation_0-auc:0.801346\tvalidation_1-auc:0.801346\n",
      "[40]\tvalidation_0-auc:0.801501\tvalidation_1-auc:0.801501\n",
      "[50]\tvalidation_0-auc:0.801743\tvalidation_1-auc:0.801743\n",
      "[60]\tvalidation_0-auc:0.802075\tvalidation_1-auc:0.802075\n",
      "[70]\tvalidation_0-auc:0.802363\tvalidation_1-auc:0.802363\n",
      "[80]\tvalidation_0-auc:0.802493\tvalidation_1-auc:0.802493\n",
      "[90]\tvalidation_0-auc:0.802663\tvalidation_1-auc:0.802663\n",
      "[99]\tvalidation_0-auc:0.802767\tvalidation_1-auc:0.802767\n"
     ]
    },
    {
     "data": {
      "text/plain": [
       "XGBClassifier(base_score=0.5, booster='gbtree', colsample_bylevel=1,\n",
       "       colsample_bytree=1, gamma=0, learning_rate=0.1, max_delta_step=0,\n",
       "       max_depth=3, min_child_weight=1, missing=None, n_estimators=100,\n",
       "       n_jobs=1, nthread=None, objective='binary:logistic', random_state=0,\n",
       "       reg_alpha=0, reg_lambda=1, scale_pos_weight=1, seed=None,\n",
       "       silent=True, subsample=1)"
      ]
     },
     "execution_count": 42,
     "metadata": {},
     "output_type": "execute_result"
    }
   ],
   "source": [
    "xgb.fit(df[oof_cols], df['TARGET'], eval_set=[(df[oof_cols], df['TARGET']), (df[oof_cols], df['TARGET'])], eval_metric='auc', verbose=10)"
   ]
  },
  {
   "cell_type": "code",
   "execution_count": 40,
   "metadata": {},
   "outputs": [
    {
     "data": {
      "text/plain": [
       "array([0.10240964, 0.1370482 , 0.15813252, 0.21084337, 0.0813253 ,\n",
       "       0.09789157, 0.2123494 ], dtype=float32)"
      ]
     },
     "execution_count": 40,
     "metadata": {},
     "output_type": "execute_result"
    }
   ],
   "source": [
    "xgb.feature_importances_"
   ]
  },
  {
   "cell_type": "code",
   "execution_count": 43,
   "metadata": {},
   "outputs": [
    {
     "data": {
      "text/plain": [
       "{'validation_0': {'auc': [0.791452,\n",
       "   0.795324,\n",
       "   0.797328,\n",
       "   0.797478,\n",
       "   0.797989,\n",
       "   0.799331,\n",
       "   0.799511,\n",
       "   0.799781,\n",
       "   0.799894,\n",
       "   0.800059,\n",
       "   0.800144,\n",
       "   0.800185,\n",
       "   0.800246,\n",
       "   0.800757,\n",
       "   0.800768,\n",
       "   0.800775,\n",
       "   0.800805,\n",
       "   0.800995,\n",
       "   0.801031,\n",
       "   0.801044,\n",
       "   0.801067,\n",
       "   0.801069,\n",
       "   0.801095,\n",
       "   0.801135,\n",
       "   0.801134,\n",
       "   0.801153,\n",
       "   0.801168,\n",
       "   0.801315,\n",
       "   0.801315,\n",
       "   0.801319,\n",
       "   0.801346,\n",
       "   0.801356,\n",
       "   0.801359,\n",
       "   0.801379,\n",
       "   0.801384,\n",
       "   0.801404,\n",
       "   0.801415,\n",
       "   0.801462,\n",
       "   0.801472,\n",
       "   0.801498,\n",
       "   0.801501,\n",
       "   0.801514,\n",
       "   0.801528,\n",
       "   0.801551,\n",
       "   0.801564,\n",
       "   0.801608,\n",
       "   0.801618,\n",
       "   0.801654,\n",
       "   0.801676,\n",
       "   0.801712,\n",
       "   0.801743,\n",
       "   0.801796,\n",
       "   0.801814,\n",
       "   0.801841,\n",
       "   0.801867,\n",
       "   0.801898,\n",
       "   0.801937,\n",
       "   0.801968,\n",
       "   0.802003,\n",
       "   0.802039,\n",
       "   0.802075,\n",
       "   0.8021,\n",
       "   0.802107,\n",
       "   0.802133,\n",
       "   0.802163,\n",
       "   0.802214,\n",
       "   0.802249,\n",
       "   0.802269,\n",
       "   0.802277,\n",
       "   0.80236,\n",
       "   0.802363,\n",
       "   0.802363,\n",
       "   0.802426,\n",
       "   0.802427,\n",
       "   0.802444,\n",
       "   0.802444,\n",
       "   0.802452,\n",
       "   0.802484,\n",
       "   0.802484,\n",
       "   0.802489,\n",
       "   0.802493,\n",
       "   0.802529,\n",
       "   0.802529,\n",
       "   0.802536,\n",
       "   0.802575,\n",
       "   0.802575,\n",
       "   0.802583,\n",
       "   0.802612,\n",
       "   0.802612,\n",
       "   0.802627,\n",
       "   0.802663,\n",
       "   0.80268,\n",
       "   0.80268,\n",
       "   0.802683,\n",
       "   0.802683,\n",
       "   0.802721,\n",
       "   0.802759,\n",
       "   0.802766,\n",
       "   0.802766,\n",
       "   0.802767]},\n",
       " 'validation_1': {'auc': [0.791452,\n",
       "   0.795324,\n",
       "   0.797328,\n",
       "   0.797478,\n",
       "   0.797989,\n",
       "   0.799331,\n",
       "   0.799511,\n",
       "   0.799781,\n",
       "   0.799894,\n",
       "   0.800059,\n",
       "   0.800144,\n",
       "   0.800185,\n",
       "   0.800246,\n",
       "   0.800757,\n",
       "   0.800768,\n",
       "   0.800775,\n",
       "   0.800805,\n",
       "   0.800995,\n",
       "   0.801031,\n",
       "   0.801044,\n",
       "   0.801067,\n",
       "   0.801069,\n",
       "   0.801095,\n",
       "   0.801135,\n",
       "   0.801134,\n",
       "   0.801153,\n",
       "   0.801168,\n",
       "   0.801315,\n",
       "   0.801315,\n",
       "   0.801319,\n",
       "   0.801346,\n",
       "   0.801356,\n",
       "   0.801359,\n",
       "   0.801379,\n",
       "   0.801384,\n",
       "   0.801404,\n",
       "   0.801415,\n",
       "   0.801462,\n",
       "   0.801472,\n",
       "   0.801498,\n",
       "   0.801501,\n",
       "   0.801514,\n",
       "   0.801528,\n",
       "   0.801551,\n",
       "   0.801564,\n",
       "   0.801608,\n",
       "   0.801618,\n",
       "   0.801654,\n",
       "   0.801676,\n",
       "   0.801712,\n",
       "   0.801743,\n",
       "   0.801796,\n",
       "   0.801814,\n",
       "   0.801841,\n",
       "   0.801867,\n",
       "   0.801898,\n",
       "   0.801937,\n",
       "   0.801968,\n",
       "   0.802003,\n",
       "   0.802039,\n",
       "   0.802075,\n",
       "   0.8021,\n",
       "   0.802107,\n",
       "   0.802133,\n",
       "   0.802163,\n",
       "   0.802214,\n",
       "   0.802249,\n",
       "   0.802269,\n",
       "   0.802277,\n",
       "   0.80236,\n",
       "   0.802363,\n",
       "   0.802363,\n",
       "   0.802426,\n",
       "   0.802427,\n",
       "   0.802444,\n",
       "   0.802444,\n",
       "   0.802452,\n",
       "   0.802484,\n",
       "   0.802484,\n",
       "   0.802489,\n",
       "   0.802493,\n",
       "   0.802529,\n",
       "   0.802529,\n",
       "   0.802536,\n",
       "   0.802575,\n",
       "   0.802575,\n",
       "   0.802583,\n",
       "   0.802612,\n",
       "   0.802612,\n",
       "   0.802627,\n",
       "   0.802663,\n",
       "   0.80268,\n",
       "   0.80268,\n",
       "   0.802683,\n",
       "   0.802683,\n",
       "   0.802721,\n",
       "   0.802759,\n",
       "   0.802766,\n",
       "   0.802766,\n",
       "   0.802767]}}"
      ]
     },
     "execution_count": 43,
     "metadata": {},
     "output_type": "execute_result"
    }
   ],
   "source": [
    "xgb.evals_result_"
   ]
  },
  {
   "cell_type": "code",
   "execution_count": 38,
   "metadata": {},
   "outputs": [
    {
     "data": {
      "text/plain": [
       "{'validation_0': {'auc': [0.791452,\n",
       "   0.795324,\n",
       "   0.797328,\n",
       "   0.797478,\n",
       "   0.797989,\n",
       "   0.799331,\n",
       "   0.799511,\n",
       "   0.799781,\n",
       "   0.799894,\n",
       "   0.800059,\n",
       "   0.800144,\n",
       "   0.800185,\n",
       "   0.800246,\n",
       "   0.800757,\n",
       "   0.800768,\n",
       "   0.800775,\n",
       "   0.800805,\n",
       "   0.800995,\n",
       "   0.801031,\n",
       "   0.801044,\n",
       "   0.801067,\n",
       "   0.801069,\n",
       "   0.801095,\n",
       "   0.801135,\n",
       "   0.801134,\n",
       "   0.801153,\n",
       "   0.801168,\n",
       "   0.801315,\n",
       "   0.801315,\n",
       "   0.801319,\n",
       "   0.801346,\n",
       "   0.801356,\n",
       "   0.801359,\n",
       "   0.801379,\n",
       "   0.801384,\n",
       "   0.801404,\n",
       "   0.801415,\n",
       "   0.801462,\n",
       "   0.801472,\n",
       "   0.801498,\n",
       "   0.801501,\n",
       "   0.801514,\n",
       "   0.801528,\n",
       "   0.801551,\n",
       "   0.801564,\n",
       "   0.801608,\n",
       "   0.801618,\n",
       "   0.801654,\n",
       "   0.801676,\n",
       "   0.801712,\n",
       "   0.801743,\n",
       "   0.801796,\n",
       "   0.801814,\n",
       "   0.801841,\n",
       "   0.801867,\n",
       "   0.801898,\n",
       "   0.801937,\n",
       "   0.801968,\n",
       "   0.802003,\n",
       "   0.802039,\n",
       "   0.802075,\n",
       "   0.8021,\n",
       "   0.802107,\n",
       "   0.802133,\n",
       "   0.802163,\n",
       "   0.802214,\n",
       "   0.802249,\n",
       "   0.802269,\n",
       "   0.802277,\n",
       "   0.80236,\n",
       "   0.802363,\n",
       "   0.802363,\n",
       "   0.802426,\n",
       "   0.802427,\n",
       "   0.802444,\n",
       "   0.802444,\n",
       "   0.802452,\n",
       "   0.802484,\n",
       "   0.802484,\n",
       "   0.802489,\n",
       "   0.802493,\n",
       "   0.802529,\n",
       "   0.802529,\n",
       "   0.802536,\n",
       "   0.802575,\n",
       "   0.802575,\n",
       "   0.802583,\n",
       "   0.802612,\n",
       "   0.802612,\n",
       "   0.802627,\n",
       "   0.802663,\n",
       "   0.80268,\n",
       "   0.80268,\n",
       "   0.802683,\n",
       "   0.802683,\n",
       "   0.802721,\n",
       "   0.802759,\n",
       "   0.802766,\n",
       "   0.802766,\n",
       "   0.802767]}}"
      ]
     },
     "execution_count": 38,
     "metadata": {},
     "output_type": "execute_result"
    }
   ],
   "source": [
    "xgb.evals_result()"
   ]
  },
  {
   "cell_type": "code",
   "execution_count": 2,
   "metadata": {
    "collapsed": true
   },
   "outputs": [],
   "source": [
    "pred_train = pd.read_csv('../workdir/ScaleWeight_2_Seed_1024/preds.csv')"
   ]
  },
  {
   "cell_type": "code",
   "execution_count": 3,
   "metadata": {
    "collapsed": true
   },
   "outputs": [],
   "source": [
    "baseModelNames = [\n",
    "    'LB0.802',\n",
    "    'allParamsTuned',\n",
    "    'withAggFeatsIn',\n",
    "    'PrunedFeatureModel',\n",
    "    '0824_new_agg_Final',\n",
    "    'WithPosScaleWeight_eq_5',\n",
    "    '10CV',\n",
    "]"
   ]
  },
  {
   "cell_type": "code",
   "execution_count": 4,
   "metadata": {},
   "outputs": [
    {
     "data": {
      "application/vnd.jupyter.widget-view+json": {
       "model_id": "8228e9524cb0496681be0fa89f706abd",
       "version_major": 2,
       "version_minor": 0
      },
      "text/plain": [
       "A Jupyter Widget"
      ]
     },
     "metadata": {},
     "output_type": "display_data"
    },
    {
     "name": "stdout",
     "output_type": "stream",
     "text": [
      "\n"
     ]
    }
   ],
   "source": [
    "def get_data(modelNames):\n",
    "    oof = {}\n",
    "    preds = {}\n",
    "    for name in tqdm_notebook(modelNames):\n",
    "        pathName = '../workdir/' + name\n",
    "        with open(pathName + '/kfold_lgb.pkl', 'rb') as f:\n",
    "            lgbClf = pickle.load(f)\n",
    "        oof_arr = lgbClf.oof_preds_\n",
    "        pred_arr = pd.read_csv(pathName + '/preds.csv', usecols=['TARGET']).values.ravel()\n",
    "\n",
    "        oof[name + '_oof'] = oof_arr\n",
    "        preds[name + '_preds'] = pred_arr\n",
    "\n",
    "    return oof, preds\n",
    "\n",
    "oof, preds = get_data(baseModelNames)\n",
    "df = pd.DataFrame(oof)\n",
    "predDf = pd.DataFrame(preds)"
   ]
  },
  {
   "cell_type": "code",
   "execution_count": 5,
   "metadata": {},
   "outputs": [],
   "source": [
    "df = df.join(pd.read_csv('../input/train_df.csv', usecols=['SK_ID_CURR', 'TARGET']))\n",
    "oof_cols = [col for col in df.columns if '_oof' in col]\n",
    "# df[oof_cols] = df[oof_cols].apply(lambda x: x.rank() / len(x))\n",
    "df['std'] = df[oof_cols].std(axis=1)"
   ]
  },
  {
   "cell_type": "code",
   "execution_count": 6,
   "metadata": {},
   "outputs": [],
   "source": [
    "predDf = predDf.join(pd.read_csv('../input/sample_submission.csv', usecols=['SK_ID_CURR']))\n",
    "pred_cols = [col for col in predDf.columns if '_preds' in col]\n",
    "predDf['std'] = predDf[pred_cols].std(axis=1)"
   ]
  },
  {
   "cell_type": "markdown",
   "metadata": {},
   "source": [
    "<font size=5> OOF AUC"
   ]
  },
  {
   "cell_type": "code",
   "execution_count": 7,
   "metadata": {},
   "outputs": [
    {
     "name": "stdout",
     "output_type": "stream",
     "text": [
      "LB0.802_oof                       0.798360\n",
      "allParamsTuned_oof                0.797814\n",
      "withAggFeatsIn_oof                0.798296\n",
      "PrunedFeatureModel_oof            0.796308\n",
      "0824_new_agg_Final_oof            0.798611\n",
      "WithPosScaleWeight_eq_5_oof       0.797380\n",
      "10CV_oof                          0.799363\n"
     ]
    }
   ],
   "source": [
    "for col in oof_cols:\n",
    "    auc = roc_auc_score(df['TARGET'], df[col])\n",
    "    print('%-30s    %.6f' % (col, auc))"
   ]
  },
  {
   "cell_type": "markdown",
   "metadata": {},
   "source": [
    "<font size=5> Correlation"
   ]
  },
  {
   "cell_type": "code",
   "execution_count": 22,
   "metadata": {},
   "outputs": [
    {
     "data": {
      "text/plain": [
       "0.8002229989334002"
      ]
     },
     "execution_count": 22,
     "metadata": {},
     "output_type": "execute_result"
    }
   ],
   "source": [
    "def avg_score(weights, df, cols):\n",
    "    ret = 0\n",
    "    for i, col in enumerate(cols):\n",
    "        ret += weights[i] * df[col]\n",
    "    return ret\n",
    "avg_score_ = avg_score([0.2, 0, 0.1, 0.2, 0, 0, 0.5], df, oof_cols)\n",
    "roc_auc_score(df['TARGET'], avg_score_)"
   ]
  },
  {
   "cell_type": "code",
   "execution_count": 10,
   "metadata": {},
   "outputs": [
    {
     "ename": "NameError",
     "evalue": "name 'avg_score' is not defined",
     "output_type": "error",
     "traceback": [
      "\u001b[0;31m---------------------------------------------------------------------------\u001b[0m",
      "\u001b[0;31mNameError\u001b[0m                                 Traceback (most recent call last)",
      "\u001b[0;32m<ipython-input-10-37b718f66611>\u001b[0m in \u001b[0;36m<module>\u001b[0;34m()\u001b[0m\n\u001b[0;32m----> 1\u001b[0;31m \u001b[0mavg_score_\u001b[0m \u001b[0;34m=\u001b[0m \u001b[0mavg_score\u001b[0m\u001b[0;34m(\u001b[0m\u001b[0;34m[\u001b[0m\u001b[0;36m0.2\u001b[0m\u001b[0;34m,\u001b[0m \u001b[0;36m0.2\u001b[0m\u001b[0;34m,\u001b[0m \u001b[0;36m0.2\u001b[0m\u001b[0;34m,\u001b[0m \u001b[0;36m0.2\u001b[0m\u001b[0;34m,\u001b[0m \u001b[0;36m0.2\u001b[0m\u001b[0;34m,\u001b[0m \u001b[0;36m0\u001b[0m\u001b[0;34m,\u001b[0m \u001b[0;36m0.2\u001b[0m\u001b[0;34m]\u001b[0m\u001b[0;34m,\u001b[0m \u001b[0mpredDf\u001b[0m\u001b[0;34m,\u001b[0m \u001b[0mpred_cols\u001b[0m\u001b[0;34m)\u001b[0m\u001b[0;34m\u001b[0m\u001b[0m\n\u001b[0m",
      "\u001b[0;31mNameError\u001b[0m: name 'avg_score' is not defined"
     ]
    }
   ],
   "source": [
    "avg_score_ = avg_score([0.2, 0.2, 0.2, 0.2, 0.2, 0, 0.2], predDf, pred_cols)"
   ]
  },
  {
   "cell_type": "code",
   "execution_count": null,
   "metadata": {},
   "outputs": [],
   "source": [
    "predDf['TARGET'] = avg_score_"
   ]
  },
  {
   "cell_type": "code",
   "execution_count": null,
   "metadata": {},
   "outputs": [],
   "source": [
    "predDf"
   ]
  },
  {
   "cell_type": "code",
   "execution_count": null,
   "metadata": {},
   "outputs": [],
   "source": [
    "predDf[['SK_ID_CURR', 'TARGET']].to_csv('weighted_avg.csv', index=False)"
   ]
  },
  {
   "cell_type": "code",
   "execution_count": 8,
   "metadata": {},
   "outputs": [
    {
     "data": {
      "text/html": [
       "<div>\n",
       "<style scoped>\n",
       "    .dataframe tbody tr th:only-of-type {\n",
       "        vertical-align: middle;\n",
       "    }\n",
       "\n",
       "    .dataframe tbody tr th {\n",
       "        vertical-align: top;\n",
       "    }\n",
       "\n",
       "    .dataframe thead th {\n",
       "        text-align: right;\n",
       "    }\n",
       "</style>\n",
       "<table border=\"1\" class=\"dataframe\">\n",
       "  <thead>\n",
       "    <tr style=\"text-align: right;\">\n",
       "      <th></th>\n",
       "      <th>LB0.802_oof</th>\n",
       "      <th>allParamsTuned_oof</th>\n",
       "      <th>withAggFeatsIn_oof</th>\n",
       "      <th>PrunedFeatureModel_oof</th>\n",
       "      <th>0824_new_agg_Final_oof</th>\n",
       "      <th>WithPosScaleWeight_eq_5_oof</th>\n",
       "      <th>10CV_oof</th>\n",
       "    </tr>\n",
       "  </thead>\n",
       "  <tbody>\n",
       "    <tr>\n",
       "      <th>count</th>\n",
       "      <td>307507.000000</td>\n",
       "      <td>307507.000000</td>\n",
       "      <td>307507.000000</td>\n",
       "      <td>307507.000000</td>\n",
       "      <td>307507.000000</td>\n",
       "      <td>307507.000000</td>\n",
       "      <td>307507.000000</td>\n",
       "    </tr>\n",
       "    <tr>\n",
       "      <th>mean</th>\n",
       "      <td>0.078900</td>\n",
       "      <td>0.079093</td>\n",
       "      <td>0.078945</td>\n",
       "      <td>0.078977</td>\n",
       "      <td>0.078994</td>\n",
       "      <td>0.223849</td>\n",
       "      <td>0.078928</td>\n",
       "    </tr>\n",
       "    <tr>\n",
       "      <th>std</th>\n",
       "      <td>0.095012</td>\n",
       "      <td>0.094832</td>\n",
       "      <td>0.095678</td>\n",
       "      <td>0.096303</td>\n",
       "      <td>0.095510</td>\n",
       "      <td>0.182805</td>\n",
       "      <td>0.095482</td>\n",
       "    </tr>\n",
       "    <tr>\n",
       "      <th>min</th>\n",
       "      <td>0.001466</td>\n",
       "      <td>0.001575</td>\n",
       "      <td>0.001279</td>\n",
       "      <td>0.001190</td>\n",
       "      <td>0.001302</td>\n",
       "      <td>0.004251</td>\n",
       "      <td>0.001443</td>\n",
       "    </tr>\n",
       "    <tr>\n",
       "      <th>25%</th>\n",
       "      <td>0.021588</td>\n",
       "      <td>0.021691</td>\n",
       "      <td>0.021235</td>\n",
       "      <td>0.020750</td>\n",
       "      <td>0.021344</td>\n",
       "      <td>0.083227</td>\n",
       "      <td>0.021448</td>\n",
       "    </tr>\n",
       "    <tr>\n",
       "      <th>50%</th>\n",
       "      <td>0.043870</td>\n",
       "      <td>0.044081</td>\n",
       "      <td>0.043577</td>\n",
       "      <td>0.042969</td>\n",
       "      <td>0.043726</td>\n",
       "      <td>0.163316</td>\n",
       "      <td>0.043679</td>\n",
       "    </tr>\n",
       "    <tr>\n",
       "      <th>75%</th>\n",
       "      <td>0.095396</td>\n",
       "      <td>0.095970</td>\n",
       "      <td>0.095571</td>\n",
       "      <td>0.095740</td>\n",
       "      <td>0.095522</td>\n",
       "      <td>0.316467</td>\n",
       "      <td>0.095516</td>\n",
       "    </tr>\n",
       "    <tr>\n",
       "      <th>max</th>\n",
       "      <td>0.890341</td>\n",
       "      <td>0.899455</td>\n",
       "      <td>0.879603</td>\n",
       "      <td>0.878445</td>\n",
       "      <td>0.883344</td>\n",
       "      <td>0.955054</td>\n",
       "      <td>0.900269</td>\n",
       "    </tr>\n",
       "  </tbody>\n",
       "</table>\n",
       "</div>"
      ],
      "text/plain": [
       "         LB0.802_oof  allParamsTuned_oof  withAggFeatsIn_oof  \\\n",
       "count  307507.000000       307507.000000       307507.000000   \n",
       "mean        0.078900            0.079093            0.078945   \n",
       "std         0.095012            0.094832            0.095678   \n",
       "min         0.001466            0.001575            0.001279   \n",
       "25%         0.021588            0.021691            0.021235   \n",
       "50%         0.043870            0.044081            0.043577   \n",
       "75%         0.095396            0.095970            0.095571   \n",
       "max         0.890341            0.899455            0.879603   \n",
       "\n",
       "       PrunedFeatureModel_oof  0824_new_agg_Final_oof  \\\n",
       "count           307507.000000           307507.000000   \n",
       "mean                 0.078977                0.078994   \n",
       "std                  0.096303                0.095510   \n",
       "min                  0.001190                0.001302   \n",
       "25%                  0.020750                0.021344   \n",
       "50%                  0.042969                0.043726   \n",
       "75%                  0.095740                0.095522   \n",
       "max                  0.878445                0.883344   \n",
       "\n",
       "       WithPosScaleWeight_eq_5_oof       10CV_oof  \n",
       "count                307507.000000  307507.000000  \n",
       "mean                      0.223849       0.078928  \n",
       "std                       0.182805       0.095482  \n",
       "min                       0.004251       0.001443  \n",
       "25%                       0.083227       0.021448  \n",
       "50%                       0.163316       0.043679  \n",
       "75%                       0.316467       0.095516  \n",
       "max                       0.955054       0.900269  "
      ]
     },
     "execution_count": 8,
     "metadata": {},
     "output_type": "execute_result"
    }
   ],
   "source": [
    "df[oof_cols].describe()"
   ]
  },
  {
   "cell_type": "code",
   "execution_count": 9,
   "metadata": {},
   "outputs": [
    {
     "data": {
      "text/html": [
       "<div>\n",
       "<style scoped>\n",
       "    .dataframe tbody tr th:only-of-type {\n",
       "        vertical-align: middle;\n",
       "    }\n",
       "\n",
       "    .dataframe tbody tr th {\n",
       "        vertical-align: top;\n",
       "    }\n",
       "\n",
       "    .dataframe thead th {\n",
       "        text-align: right;\n",
       "    }\n",
       "</style>\n",
       "<table border=\"1\" class=\"dataframe\">\n",
       "  <thead>\n",
       "    <tr style=\"text-align: right;\">\n",
       "      <th></th>\n",
       "      <th>LB0.802_oof</th>\n",
       "      <th>allParamsTuned_oof</th>\n",
       "      <th>withAggFeatsIn_oof</th>\n",
       "      <th>PrunedFeatureModel_oof</th>\n",
       "      <th>0824_new_agg_Final_oof</th>\n",
       "      <th>WithPosScaleWeight_eq_5_oof</th>\n",
       "      <th>10CV_oof</th>\n",
       "    </tr>\n",
       "  </thead>\n",
       "  <tbody>\n",
       "    <tr>\n",
       "      <th>LB0.802_oof</th>\n",
       "      <td>1.000000</td>\n",
       "      <td>0.976576</td>\n",
       "      <td>0.984745</td>\n",
       "      <td>0.967766</td>\n",
       "      <td>0.987605</td>\n",
       "      <td>0.939105</td>\n",
       "      <td>0.986135</td>\n",
       "    </tr>\n",
       "    <tr>\n",
       "      <th>allParamsTuned_oof</th>\n",
       "      <td>0.976576</td>\n",
       "      <td>1.000000</td>\n",
       "      <td>0.977530</td>\n",
       "      <td>0.961129</td>\n",
       "      <td>0.979595</td>\n",
       "      <td>0.927106</td>\n",
       "      <td>0.978974</td>\n",
       "    </tr>\n",
       "    <tr>\n",
       "      <th>withAggFeatsIn_oof</th>\n",
       "      <td>0.984745</td>\n",
       "      <td>0.977530</td>\n",
       "      <td>1.000000</td>\n",
       "      <td>0.971140</td>\n",
       "      <td>0.988000</td>\n",
       "      <td>0.931213</td>\n",
       "      <td>0.977416</td>\n",
       "    </tr>\n",
       "    <tr>\n",
       "      <th>PrunedFeatureModel_oof</th>\n",
       "      <td>0.967766</td>\n",
       "      <td>0.961129</td>\n",
       "      <td>0.971140</td>\n",
       "      <td>1.000000</td>\n",
       "      <td>0.970998</td>\n",
       "      <td>0.920206</td>\n",
       "      <td>0.961152</td>\n",
       "    </tr>\n",
       "    <tr>\n",
       "      <th>0824_new_agg_Final_oof</th>\n",
       "      <td>0.987605</td>\n",
       "      <td>0.979595</td>\n",
       "      <td>0.988000</td>\n",
       "      <td>0.970998</td>\n",
       "      <td>1.000000</td>\n",
       "      <td>0.933923</td>\n",
       "      <td>0.980044</td>\n",
       "    </tr>\n",
       "    <tr>\n",
       "      <th>WithPosScaleWeight_eq_5_oof</th>\n",
       "      <td>0.939105</td>\n",
       "      <td>0.927106</td>\n",
       "      <td>0.931213</td>\n",
       "      <td>0.920206</td>\n",
       "      <td>0.933923</td>\n",
       "      <td>1.000000</td>\n",
       "      <td>0.932281</td>\n",
       "    </tr>\n",
       "    <tr>\n",
       "      <th>10CV_oof</th>\n",
       "      <td>0.986135</td>\n",
       "      <td>0.978974</td>\n",
       "      <td>0.977416</td>\n",
       "      <td>0.961152</td>\n",
       "      <td>0.980044</td>\n",
       "      <td>0.932281</td>\n",
       "      <td>1.000000</td>\n",
       "    </tr>\n",
       "  </tbody>\n",
       "</table>\n",
       "</div>"
      ],
      "text/plain": [
       "                             LB0.802_oof  allParamsTuned_oof  \\\n",
       "LB0.802_oof                     1.000000            0.976576   \n",
       "allParamsTuned_oof              0.976576            1.000000   \n",
       "withAggFeatsIn_oof              0.984745            0.977530   \n",
       "PrunedFeatureModel_oof          0.967766            0.961129   \n",
       "0824_new_agg_Final_oof          0.987605            0.979595   \n",
       "WithPosScaleWeight_eq_5_oof     0.939105            0.927106   \n",
       "10CV_oof                        0.986135            0.978974   \n",
       "\n",
       "                             withAggFeatsIn_oof  PrunedFeatureModel_oof  \\\n",
       "LB0.802_oof                            0.984745                0.967766   \n",
       "allParamsTuned_oof                     0.977530                0.961129   \n",
       "withAggFeatsIn_oof                     1.000000                0.971140   \n",
       "PrunedFeatureModel_oof                 0.971140                1.000000   \n",
       "0824_new_agg_Final_oof                 0.988000                0.970998   \n",
       "WithPosScaleWeight_eq_5_oof            0.931213                0.920206   \n",
       "10CV_oof                               0.977416                0.961152   \n",
       "\n",
       "                             0824_new_agg_Final_oof  \\\n",
       "LB0.802_oof                                0.987605   \n",
       "allParamsTuned_oof                         0.979595   \n",
       "withAggFeatsIn_oof                         0.988000   \n",
       "PrunedFeatureModel_oof                     0.970998   \n",
       "0824_new_agg_Final_oof                     1.000000   \n",
       "WithPosScaleWeight_eq_5_oof                0.933923   \n",
       "10CV_oof                                   0.980044   \n",
       "\n",
       "                             WithPosScaleWeight_eq_5_oof  10CV_oof  \n",
       "LB0.802_oof                                     0.939105  0.986135  \n",
       "allParamsTuned_oof                              0.927106  0.978974  \n",
       "withAggFeatsIn_oof                              0.931213  0.977416  \n",
       "PrunedFeatureModel_oof                          0.920206  0.961152  \n",
       "0824_new_agg_Final_oof                          0.933923  0.980044  \n",
       "WithPosScaleWeight_eq_5_oof                     1.000000  0.932281  \n",
       "10CV_oof                                        0.932281  1.000000  "
      ]
     },
     "execution_count": 9,
     "metadata": {},
     "output_type": "execute_result"
    }
   ],
   "source": [
    "df[oof_cols].corr()"
   ]
  },
  {
   "cell_type": "markdown",
   "metadata": {},
   "source": [
    "<font size=5> start Stacking"
   ]
  },
  {
   "cell_type": "code",
   "execution_count": null,
   "metadata": {},
   "outputs": [],
   "source": [
    "def train(X, y, model, cv=5):\n",
    "    from copy import deepcopy\n",
    "    models = [deepcopy(model) for i in range(cv)]\n",
    "    split = StratifiedKFold(n_splits=cv, shuffle=True)\n",
    "    oof_preds = np.zeros((len(X),))\n",
    "    for i, (train_idx, dev_idx) in enumerate(split.split(X, y)):\n",
    "        X_train, X_dev = X.iloc[train_idx], X.iloc[dev_idx]\n",
    "        y_train, y_dev = y.iloc[train_idx], y.iloc[dev_idx]\n",
    "        \n",
    "        model = models[i]\n",
    "        print('start train fold %s' % str(i + 1))\n",
    "        model.fit(X_train, y_train,\n",
    "#                   eval_set=[(X_train, y_train), (X_dev, y_dev)],\n",
    "#                   eval_names=['train', 'valid'],\n",
    "#                   eval_metric='auc',\n",
    "#                   verbose=20,\n",
    "#                   early_stopping_rounds=50,\n",
    "                 )\n",
    "        y_hat = model.predict_proba(X_dev)[:, 1]\n",
    "        oof_preds[dev_idx] = y_hat\n",
    "        print('=' * 60)\n",
    "    print(\"FULL AUC: \", roc_auc_score(y, oof_preds))\n",
    "    return models\n",
    "\n",
    "# lgbClf = LGBMClassifier(n_estimators=250, learning_rate=0.01, reg_alpha=1)\n",
    "models = train(df[oof_cols] , df['TARGET'], LogisticRegression())"
   ]
  },
  {
   "cell_type": "code",
   "execution_count": null,
   "metadata": {},
   "outputs": [],
   "source": [
    "for model in models:\n",
    "    print(model.coef_)"
   ]
  },
  {
   "cell_type": "code",
   "execution_count": null,
   "metadata": {},
   "outputs": [],
   "source": [
    "def pred(X, models):\n",
    "    y_hat = np.zeros((len(X), ))\n",
    "    n = len(models)\n",
    "    for model in models:\n",
    "        y_hat += model.predict_proba(X)[:, 1]\n",
    "    y_hat /= n\n",
    "    return y_hat\n",
    "\n",
    "stackingPreds = pred(predDf[pred_cols], models)"
   ]
  }
 ],
 "metadata": {
  "kernelspec": {
   "display_name": "Python 3",
   "language": "python",
   "name": "python3"
  },
  "language_info": {
   "codemirror_mode": {
    "name": "ipython",
    "version": 3
   },
   "file_extension": ".py",
   "mimetype": "text/x-python",
   "name": "python",
   "nbconvert_exporter": "python",
   "pygments_lexer": "ipython3",
   "version": "3.6.3"
  }
 },
 "nbformat": 4,
 "nbformat_minor": 2
}
