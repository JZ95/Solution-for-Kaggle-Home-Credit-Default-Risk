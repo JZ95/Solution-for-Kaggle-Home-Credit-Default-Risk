{
 "cells": [
  {
   "cell_type": "code",
   "execution_count": 1,
   "metadata": {
    "collapsed": true
   },
   "outputs": [],
   "source": [
    "import pandas as pd\n",
    "import numpy as np\n",
    "import pickle\n",
    "from sklearn.metrics import roc_auc_score, accuracy_score\n",
    "from sklearn.linear_model import LogisticRegression, LinearRegression\n",
    "from sklearn.tree import DecisionTreeClassifier\n",
    "from sklearn.model_selection import train_test_split, StratifiedKFold\n",
    "from scipy.stats import percentileofscore\n",
    "import sys\n",
    "from tqdm import tqdm_notebook\n",
    "sys.path.append('../')\n",
    "\n",
    "%matplotlib inline"
   ]
  },
  {
   "cell_type": "code",
   "execution_count": 11,
   "metadata": {
    "collapsed": true
   },
   "outputs": [],
   "source": [
    "baseModelNames = [\n",
    "    'LB0.802',\n",
    "    'allParamsTuned',\n",
    "    'withAggFeatsIn',\n",
    "#     'PrunedFeatureModel',\n",
    "    '0824_new_agg_Final',\n",
    "    'WithPosScaleWeight_eq_5',\n",
    "    'CV10-0821',\n",
    "    'CV10-0827',\n",
    "    '1150FEATS_LGB',\n",
    "#     'XGB-5-CV',\n",
    "]"
   ]
  },
  {
   "cell_type": "code",
   "execution_count": 12,
   "metadata": {},
   "outputs": [
    {
     "data": {
      "application/vnd.jupyter.widget-view+json": {
       "model_id": "942ecee310b64ae8b3ab8c670021193d",
       "version_major": 2,
       "version_minor": 0
      },
      "text/plain": [
       "A Jupyter Widget"
      ]
     },
     "metadata": {},
     "output_type": "display_data"
    },
    {
     "name": "stderr",
     "output_type": "stream",
     "text": [
      "/Users/j.zhou/anaconda3/lib/python3.6/site-packages/sklearn/base.py:311: UserWarning: Trying to unpickle estimator LabelEncoder from version 0.19.2 when using version 0.19.1. This might lead to breaking code or invalid results. Use at your own risk.\n",
      "  UserWarning)\n"
     ]
    },
    {
     "name": "stdout",
     "output_type": "stream",
     "text": [
      "\n"
     ]
    }
   ],
   "source": [
    "def get_data(modelNames):\n",
    "    oof = {}\n",
    "    preds = {}\n",
    "    for name in tqdm_notebook(modelNames):\n",
    "        pathName = '../workdir/' + name\n",
    "        with open(pathName + '/kfold_model.pkl', 'rb') as f:\n",
    "            Clf = pickle.load(f)\n",
    "        oof_arr = Clf.oof_preds_\n",
    "        pred_arr = pd.read_csv(pathName + '/preds.csv', usecols=['TARGET']).values.ravel()\n",
    "\n",
    "        oof[name + '_oof'] = oof_arr\n",
    "        preds[name + '_preds'] = pred_arr\n",
    "\n",
    "    return oof, preds\n",
    "\n",
    "oof, preds = get_data(baseModelNames)\n",
    "df = pd.DataFrame(oof)\n",
    "predDf = pd.DataFrame(preds)"
   ]
  },
  {
   "cell_type": "code",
   "execution_count": 13,
   "metadata": {},
   "outputs": [],
   "source": [
    "df = df.join(pd.read_csv('../input/train_df.csv', usecols=['SK_ID_CURR', 'TARGET']))\n",
    "oof_cols = [col for col in df.columns if '_oof' in col]\n",
    "# df[oof_cols] = df[oof_cols].apply(lambda x: x.rank() / len(x))\n",
    "df['std'] = df[oof_cols].std(axis=1)"
   ]
  },
  {
   "cell_type": "code",
   "execution_count": 14,
   "metadata": {},
   "outputs": [],
   "source": [
    "predDf = predDf.join(pd.read_csv('../input/sample_submission.csv', usecols=['SK_ID_CURR']))\n",
    "pred_cols = [col for col in predDf.columns if '_preds' in col]\n",
    "predDf['std'] = predDf[pred_cols].std(axis=1)"
   ]
  },
  {
   "cell_type": "markdown",
   "metadata": {},
   "source": [
    "<font size=5> OOF AUC"
   ]
  },
  {
   "cell_type": "code",
   "execution_count": 15,
   "metadata": {},
   "outputs": [
    {
     "name": "stdout",
     "output_type": "stream",
     "text": [
      "LB0.802_oof                       0.798360\n",
      "allParamsTuned_oof                0.797814\n",
      "withAggFeatsIn_oof                0.798296\n",
      "0824_new_agg_Final_oof            0.798611\n",
      "WithPosScaleWeight_eq_5_oof       0.797380\n",
      "CV10-0821_oof                     0.799078\n",
      "CV10-0827_oof                     0.799363\n",
      "1150FEATS_LGB_oof                 0.798455\n"
     ]
    }
   ],
   "source": [
    "for col in oof_cols:\n",
    "    auc = roc_auc_score(df['TARGET'], df[col])\n",
    "    print('%-30s    %.6f' % (col, auc))"
   ]
  },
  {
   "cell_type": "markdown",
   "metadata": {},
   "source": [
    "<font size=5> Correlation"
   ]
  },
  {
   "cell_type": "code",
   "execution_count": 16,
   "metadata": {},
   "outputs": [
    {
     "data": {
      "text/html": [
       "<div>\n",
       "<style scoped>\n",
       "    .dataframe tbody tr th:only-of-type {\n",
       "        vertical-align: middle;\n",
       "    }\n",
       "\n",
       "    .dataframe tbody tr th {\n",
       "        vertical-align: top;\n",
       "    }\n",
       "\n",
       "    .dataframe thead th {\n",
       "        text-align: right;\n",
       "    }\n",
       "</style>\n",
       "<table border=\"1\" class=\"dataframe\">\n",
       "  <thead>\n",
       "    <tr style=\"text-align: right;\">\n",
       "      <th></th>\n",
       "      <th>LB0.802_oof</th>\n",
       "      <th>allParamsTuned_oof</th>\n",
       "      <th>withAggFeatsIn_oof</th>\n",
       "      <th>0824_new_agg_Final_oof</th>\n",
       "      <th>WithPosScaleWeight_eq_5_oof</th>\n",
       "      <th>CV10-0821_oof</th>\n",
       "      <th>CV10-0827_oof</th>\n",
       "      <th>1150FEATS_LGB_oof</th>\n",
       "    </tr>\n",
       "  </thead>\n",
       "  <tbody>\n",
       "    <tr>\n",
       "      <th>count</th>\n",
       "      <td>307507.000000</td>\n",
       "      <td>307507.000000</td>\n",
       "      <td>307507.000000</td>\n",
       "      <td>307507.000000</td>\n",
       "      <td>307507.000000</td>\n",
       "      <td>307507.000000</td>\n",
       "      <td>307507.000000</td>\n",
       "      <td>307507.000000</td>\n",
       "    </tr>\n",
       "    <tr>\n",
       "      <th>mean</th>\n",
       "      <td>0.078900</td>\n",
       "      <td>0.079093</td>\n",
       "      <td>0.078945</td>\n",
       "      <td>0.078994</td>\n",
       "      <td>0.223849</td>\n",
       "      <td>0.079124</td>\n",
       "      <td>0.078928</td>\n",
       "      <td>0.078845</td>\n",
       "    </tr>\n",
       "    <tr>\n",
       "      <th>std</th>\n",
       "      <td>0.095012</td>\n",
       "      <td>0.094832</td>\n",
       "      <td>0.095678</td>\n",
       "      <td>0.095510</td>\n",
       "      <td>0.182805</td>\n",
       "      <td>0.095313</td>\n",
       "      <td>0.095482</td>\n",
       "      <td>0.095061</td>\n",
       "    </tr>\n",
       "    <tr>\n",
       "      <th>min</th>\n",
       "      <td>0.001466</td>\n",
       "      <td>0.001575</td>\n",
       "      <td>0.001279</td>\n",
       "      <td>0.001302</td>\n",
       "      <td>0.004251</td>\n",
       "      <td>0.001485</td>\n",
       "      <td>0.001443</td>\n",
       "      <td>0.001717</td>\n",
       "    </tr>\n",
       "    <tr>\n",
       "      <th>25%</th>\n",
       "      <td>0.021588</td>\n",
       "      <td>0.021691</td>\n",
       "      <td>0.021235</td>\n",
       "      <td>0.021344</td>\n",
       "      <td>0.083227</td>\n",
       "      <td>0.021510</td>\n",
       "      <td>0.021448</td>\n",
       "      <td>0.021517</td>\n",
       "    </tr>\n",
       "    <tr>\n",
       "      <th>50%</th>\n",
       "      <td>0.043870</td>\n",
       "      <td>0.044081</td>\n",
       "      <td>0.043577</td>\n",
       "      <td>0.043726</td>\n",
       "      <td>0.163316</td>\n",
       "      <td>0.043933</td>\n",
       "      <td>0.043679</td>\n",
       "      <td>0.043708</td>\n",
       "    </tr>\n",
       "    <tr>\n",
       "      <th>75%</th>\n",
       "      <td>0.095396</td>\n",
       "      <td>0.095970</td>\n",
       "      <td>0.095571</td>\n",
       "      <td>0.095522</td>\n",
       "      <td>0.316467</td>\n",
       "      <td>0.095955</td>\n",
       "      <td>0.095516</td>\n",
       "      <td>0.095422</td>\n",
       "    </tr>\n",
       "    <tr>\n",
       "      <th>max</th>\n",
       "      <td>0.890341</td>\n",
       "      <td>0.899455</td>\n",
       "      <td>0.879603</td>\n",
       "      <td>0.883344</td>\n",
       "      <td>0.955054</td>\n",
       "      <td>0.900749</td>\n",
       "      <td>0.900269</td>\n",
       "      <td>0.883544</td>\n",
       "    </tr>\n",
       "  </tbody>\n",
       "</table>\n",
       "</div>"
      ],
      "text/plain": [
       "         LB0.802_oof  allParamsTuned_oof  withAggFeatsIn_oof  \\\n",
       "count  307507.000000       307507.000000       307507.000000   \n",
       "mean        0.078900            0.079093            0.078945   \n",
       "std         0.095012            0.094832            0.095678   \n",
       "min         0.001466            0.001575            0.001279   \n",
       "25%         0.021588            0.021691            0.021235   \n",
       "50%         0.043870            0.044081            0.043577   \n",
       "75%         0.095396            0.095970            0.095571   \n",
       "max         0.890341            0.899455            0.879603   \n",
       "\n",
       "       0824_new_agg_Final_oof  WithPosScaleWeight_eq_5_oof  CV10-0821_oof  \\\n",
       "count           307507.000000                307507.000000  307507.000000   \n",
       "mean                 0.078994                     0.223849       0.079124   \n",
       "std                  0.095510                     0.182805       0.095313   \n",
       "min                  0.001302                     0.004251       0.001485   \n",
       "25%                  0.021344                     0.083227       0.021510   \n",
       "50%                  0.043726                     0.163316       0.043933   \n",
       "75%                  0.095522                     0.316467       0.095955   \n",
       "max                  0.883344                     0.955054       0.900749   \n",
       "\n",
       "       CV10-0827_oof  1150FEATS_LGB_oof  \n",
       "count  307507.000000      307507.000000  \n",
       "mean        0.078928           0.078845  \n",
       "std         0.095482           0.095061  \n",
       "min         0.001443           0.001717  \n",
       "25%         0.021448           0.021517  \n",
       "50%         0.043679           0.043708  \n",
       "75%         0.095516           0.095422  \n",
       "max         0.900269           0.883544  "
      ]
     },
     "execution_count": 16,
     "metadata": {},
     "output_type": "execute_result"
    }
   ],
   "source": [
    "df[oof_cols].describe()"
   ]
  },
  {
   "cell_type": "code",
   "execution_count": 17,
   "metadata": {
    "scrolled": true
   },
   "outputs": [
    {
     "data": {
      "text/html": [
       "<div>\n",
       "<style scoped>\n",
       "    .dataframe tbody tr th:only-of-type {\n",
       "        vertical-align: middle;\n",
       "    }\n",
       "\n",
       "    .dataframe tbody tr th {\n",
       "        vertical-align: top;\n",
       "    }\n",
       "\n",
       "    .dataframe thead th {\n",
       "        text-align: right;\n",
       "    }\n",
       "</style>\n",
       "<table border=\"1\" class=\"dataframe\">\n",
       "  <thead>\n",
       "    <tr style=\"text-align: right;\">\n",
       "      <th></th>\n",
       "      <th>LB0.802_oof</th>\n",
       "      <th>allParamsTuned_oof</th>\n",
       "      <th>withAggFeatsIn_oof</th>\n",
       "      <th>0824_new_agg_Final_oof</th>\n",
       "      <th>WithPosScaleWeight_eq_5_oof</th>\n",
       "      <th>CV10-0821_oof</th>\n",
       "      <th>CV10-0827_oof</th>\n",
       "      <th>1150FEATS_LGB_oof</th>\n",
       "    </tr>\n",
       "  </thead>\n",
       "  <tbody>\n",
       "    <tr>\n",
       "      <th>LB0.802_oof</th>\n",
       "      <td>1.000000</td>\n",
       "      <td>0.976576</td>\n",
       "      <td>0.984745</td>\n",
       "      <td>0.987605</td>\n",
       "      <td>0.939105</td>\n",
       "      <td>0.978451</td>\n",
       "      <td>0.986135</td>\n",
       "      <td>0.981768</td>\n",
       "    </tr>\n",
       "    <tr>\n",
       "      <th>allParamsTuned_oof</th>\n",
       "      <td>0.976576</td>\n",
       "      <td>1.000000</td>\n",
       "      <td>0.977530</td>\n",
       "      <td>0.979595</td>\n",
       "      <td>0.927106</td>\n",
       "      <td>0.991211</td>\n",
       "      <td>0.978974</td>\n",
       "      <td>0.974787</td>\n",
       "    </tr>\n",
       "    <tr>\n",
       "      <th>withAggFeatsIn_oof</th>\n",
       "      <td>0.984745</td>\n",
       "      <td>0.977530</td>\n",
       "      <td>1.000000</td>\n",
       "      <td>0.988000</td>\n",
       "      <td>0.931213</td>\n",
       "      <td>0.979816</td>\n",
       "      <td>0.977416</td>\n",
       "      <td>0.973129</td>\n",
       "    </tr>\n",
       "    <tr>\n",
       "      <th>0824_new_agg_Final_oof</th>\n",
       "      <td>0.987605</td>\n",
       "      <td>0.979595</td>\n",
       "      <td>0.988000</td>\n",
       "      <td>1.000000</td>\n",
       "      <td>0.933923</td>\n",
       "      <td>0.981866</td>\n",
       "      <td>0.980044</td>\n",
       "      <td>0.975957</td>\n",
       "    </tr>\n",
       "    <tr>\n",
       "      <th>WithPosScaleWeight_eq_5_oof</th>\n",
       "      <td>0.939105</td>\n",
       "      <td>0.927106</td>\n",
       "      <td>0.931213</td>\n",
       "      <td>0.933923</td>\n",
       "      <td>1.000000</td>\n",
       "      <td>0.927966</td>\n",
       "      <td>0.932281</td>\n",
       "      <td>0.930294</td>\n",
       "    </tr>\n",
       "    <tr>\n",
       "      <th>CV10-0821_oof</th>\n",
       "      <td>0.978451</td>\n",
       "      <td>0.991211</td>\n",
       "      <td>0.979816</td>\n",
       "      <td>0.981866</td>\n",
       "      <td>0.927966</td>\n",
       "      <td>1.000000</td>\n",
       "      <td>0.981068</td>\n",
       "      <td>0.976567</td>\n",
       "    </tr>\n",
       "    <tr>\n",
       "      <th>CV10-0827_oof</th>\n",
       "      <td>0.986135</td>\n",
       "      <td>0.978974</td>\n",
       "      <td>0.977416</td>\n",
       "      <td>0.980044</td>\n",
       "      <td>0.932281</td>\n",
       "      <td>0.981068</td>\n",
       "      <td>1.000000</td>\n",
       "      <td>0.989251</td>\n",
       "    </tr>\n",
       "    <tr>\n",
       "      <th>1150FEATS_LGB_oof</th>\n",
       "      <td>0.981768</td>\n",
       "      <td>0.974787</td>\n",
       "      <td>0.973129</td>\n",
       "      <td>0.975957</td>\n",
       "      <td>0.930294</td>\n",
       "      <td>0.976567</td>\n",
       "      <td>0.989251</td>\n",
       "      <td>1.000000</td>\n",
       "    </tr>\n",
       "  </tbody>\n",
       "</table>\n",
       "</div>"
      ],
      "text/plain": [
       "                             LB0.802_oof  allParamsTuned_oof  \\\n",
       "LB0.802_oof                     1.000000            0.976576   \n",
       "allParamsTuned_oof              0.976576            1.000000   \n",
       "withAggFeatsIn_oof              0.984745            0.977530   \n",
       "0824_new_agg_Final_oof          0.987605            0.979595   \n",
       "WithPosScaleWeight_eq_5_oof     0.939105            0.927106   \n",
       "CV10-0821_oof                   0.978451            0.991211   \n",
       "CV10-0827_oof                   0.986135            0.978974   \n",
       "1150FEATS_LGB_oof               0.981768            0.974787   \n",
       "\n",
       "                             withAggFeatsIn_oof  0824_new_agg_Final_oof  \\\n",
       "LB0.802_oof                            0.984745                0.987605   \n",
       "allParamsTuned_oof                     0.977530                0.979595   \n",
       "withAggFeatsIn_oof                     1.000000                0.988000   \n",
       "0824_new_agg_Final_oof                 0.988000                1.000000   \n",
       "WithPosScaleWeight_eq_5_oof            0.931213                0.933923   \n",
       "CV10-0821_oof                          0.979816                0.981866   \n",
       "CV10-0827_oof                          0.977416                0.980044   \n",
       "1150FEATS_LGB_oof                      0.973129                0.975957   \n",
       "\n",
       "                             WithPosScaleWeight_eq_5_oof  CV10-0821_oof  \\\n",
       "LB0.802_oof                                     0.939105       0.978451   \n",
       "allParamsTuned_oof                              0.927106       0.991211   \n",
       "withAggFeatsIn_oof                              0.931213       0.979816   \n",
       "0824_new_agg_Final_oof                          0.933923       0.981866   \n",
       "WithPosScaleWeight_eq_5_oof                     1.000000       0.927966   \n",
       "CV10-0821_oof                                   0.927966       1.000000   \n",
       "CV10-0827_oof                                   0.932281       0.981068   \n",
       "1150FEATS_LGB_oof                               0.930294       0.976567   \n",
       "\n",
       "                             CV10-0827_oof  1150FEATS_LGB_oof  \n",
       "LB0.802_oof                       0.986135           0.981768  \n",
       "allParamsTuned_oof                0.978974           0.974787  \n",
       "withAggFeatsIn_oof                0.977416           0.973129  \n",
       "0824_new_agg_Final_oof            0.980044           0.975957  \n",
       "WithPosScaleWeight_eq_5_oof       0.932281           0.930294  \n",
       "CV10-0821_oof                     0.981068           0.976567  \n",
       "CV10-0827_oof                     1.000000           0.989251  \n",
       "1150FEATS_LGB_oof                 0.989251           1.000000  "
      ]
     },
     "execution_count": 17,
     "metadata": {},
     "output_type": "execute_result"
    }
   ],
   "source": [
    "df[oof_cols].corr()"
   ]
  },
  {
   "cell_type": "markdown",
   "metadata": {},
   "source": [
    "<font size=5> start Stacking"
   ]
  },
  {
   "cell_type": "code",
   "execution_count": 18,
   "metadata": {},
   "outputs": [
    {
     "name": "stdout",
     "output_type": "stream",
     "text": [
      "start train fold 1\n",
      "============================================================\n",
      "start train fold 2\n",
      "============================================================\n",
      "start train fold 3\n",
      "============================================================\n",
      "start train fold 4\n",
      "============================================================\n",
      "start train fold 5\n",
      "============================================================\n",
      "FULL AUC:  0.7979117247480441\n"
     ]
    }
   ],
   "source": [
    "def train(X, y, model, cv=5):\n",
    "    from copy import deepcopy\n",
    "    models = [deepcopy(model) for i in range(cv)]\n",
    "    split = StratifiedKFold(n_splits=cv, shuffle=True)\n",
    "    oof_preds = np.zeros((len(X),))\n",
    "    for i, (train_idx, dev_idx) in enumerate(split.split(X, y)):\n",
    "        X_train, X_dev = X.iloc[train_idx], X.iloc[dev_idx]\n",
    "        y_train, y_dev = y.iloc[train_idx], y.iloc[dev_idx]\n",
    "        \n",
    "        model = models[i]\n",
    "        print('start train fold %s' % str(i + 1))\n",
    "        model.fit(X_train, y_train,\n",
    "#                   eval_set=[(X_train, y_train), (X_dev, y_dev)],\n",
    "#                   eval_names=['train', 'valid'],\n",
    "#                   eval_metric='auc',\n",
    "#                   verbose=20,\n",
    "#                   early_stopping_rounds=50,\n",
    "                 )\n",
    "        y_hat = model.predict_proba(X_dev)[:, 1]\n",
    "        oof_preds[dev_idx] = y_hat\n",
    "        print('=' * 60)\n",
    "    print(\"FULL AUC: \", roc_auc_score(y, oof_preds))\n",
    "    return models\n",
    "\n",
    "# lgbClf = LGBMClassifier(n_estimators=250, learning_rate=0.01, reg_alpha=1)\n",
    "models = train(df[oof_cols] , df['TARGET'], LogisticRegression())"
   ]
  },
  {
   "cell_type": "code",
   "execution_count": 19,
   "metadata": {},
   "outputs": [
    {
     "name": "stdout",
     "output_type": "stream",
     "text": [
      "[[-3.76846701 -0.021525    0.75606529 -0.10063246  5.3481299   1.84468434\n",
      "   1.34679284 -0.21716767]]\n",
      "[[-3.79135293 -0.31336149  0.95176052 -0.02499953  5.43792562  2.03355426\n",
      "   1.24434643 -0.47765438]]\n",
      "[[-4.16690477 -0.29776536  0.83115713  0.19917924  5.51607734  1.90354591\n",
      "   1.25675307 -0.16482504]]\n",
      "[[-3.97561532 -0.32234854  1.07575083 -0.08158333  5.41632182  1.90479184\n",
      "   1.32119684 -0.23664279]]\n",
      "[[-3.87296646 -0.22706361  0.5788576   0.63297307  5.41183406  1.99295277\n",
      "   1.03754315 -0.41417601]]\n"
     ]
    }
   ],
   "source": [
    "for model in models:\n",
    "    print(model.coef_)"
   ]
  },
  {
   "cell_type": "code",
   "execution_count": null,
   "metadata": {},
   "outputs": [],
   "source": [
    "def pred(X, models):\n",
    "    y_hat = np.zeros((len(X), ))\n",
    "    n = len(models)\n",
    "    for model in models:\n",
    "        y_hat += model.predict_proba(X)[:, 1]\n",
    "    y_hat /= n\n",
    "    return y_hat\n",
    "\n",
    "stackingPreds = pred(predDf[pred_cols], models)"
   ]
  },
  {
   "cell_type": "markdown",
   "metadata": {},
   "source": [
    "<font size=5> Weighted AVG"
   ]
  },
  {
   "cell_type": "code",
   "execution_count": 37,
   "metadata": {},
   "outputs": [
    {
     "data": {
      "text/plain": [
       "0.8002069367026086"
      ]
     },
     "execution_count": 37,
     "metadata": {},
     "output_type": "execute_result"
    }
   ],
   "source": [
    "def avg_score(weights, df, cols):\n",
    "    ret = 0\n",
    "    for i, col in enumerate(cols):\n",
    "        ret += weights[i] * df[col]\n",
    "    return ret\n",
    "avg_score_ = avg_score([0, 0, 0, 0, 0, 0.5, 0.5, 0.], df, oof_cols)\n",
    "roc_auc_score(df['TARGET'], avg_score_)"
   ]
  },
  {
   "cell_type": "code",
   "execution_count": 39,
   "metadata": {},
   "outputs": [],
   "source": [
    "predDf['TARGET'] = avg_score([0, 0, 0, 0, 0, 0.5, 0.5, 0.], predDf, pred_cols)"
   ]
  },
  {
   "cell_type": "code",
   "execution_count": 41,
   "metadata": {},
   "outputs": [],
   "source": [
    "predDf[['SK_ID_CURR', 'TARGET']].to_csv('weighted_avg2.csv', index=False)"
   ]
  },
  {
   "cell_type": "code",
   "execution_count": null,
   "metadata": {
    "collapsed": true
   },
   "outputs": [],
   "source": []
  }
 ],
 "metadata": {
  "kernelspec": {
   "display_name": "Python 3",
   "language": "python",
   "name": "python3"
  },
  "language_info": {
   "codemirror_mode": {
    "name": "ipython",
    "version": 3
   },
   "file_extension": ".py",
   "mimetype": "text/x-python",
   "name": "python",
   "nbconvert_exporter": "python",
   "pygments_lexer": "ipython3",
   "version": "3.6.3"
  }
 },
 "nbformat": 4,
 "nbformat_minor": 2
}
